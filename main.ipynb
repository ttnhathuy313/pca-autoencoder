{
  "cells": [
    {
      "cell_type": "markdown",
      "metadata": {
        "id": "5ikah1V6TFRi"
      },
      "source": [
        "# Experiment setup"
      ]
    },
    {
      "cell_type": "markdown",
      "metadata": {
        "id": "-kCtGTxrTFRk"
      },
      "source": [
        "## Representation Distribution\n",
        "\n",
        "For this task, we would like to see the compressibility between auto-encoder and PCA.\n",
        "\n",
        "## Reconstruction\n",
        "\n",
        "For this task, we would like to show the expressivity between auto-encoder and PCA.\n",
        "\n",
        "## Dataset\n",
        "\n",
        "We will use MNIST and LFW"
      ]
    },
    {
      "cell_type": "code",
      "execution_count": 16,
      "metadata": {
        "id": "PsAqucrTTFRl",
        "outputId": "a7833b43-b740-4ef4-e17d-345d73eb5801",
        "colab": {
          "base_uri": "https://localhost:8080/"
        }
      },
      "outputs": [
        {
          "output_type": "stream",
          "name": "stdout",
          "text": [
            "Epoch [1/20], Average Loss: 0.2308\n",
            "Epoch [2/20], Average Loss: 0.1380\n",
            "Epoch [3/20], Average Loss: 0.1148\n",
            "Epoch [4/20], Average Loss: 0.1023\n",
            "Epoch [5/20], Average Loss: 0.0925\n",
            "Epoch [6/20], Average Loss: 0.0866\n",
            "Epoch [7/20], Average Loss: 0.0829\n",
            "Epoch [8/20], Average Loss: 0.0802\n",
            "Epoch [9/20], Average Loss: 0.0780\n",
            "Epoch [10/20], Average Loss: 0.0761\n",
            "Epoch [11/20], Average Loss: 0.0731\n",
            "Epoch [12/20], Average Loss: 0.0705\n",
            "Epoch [13/20], Average Loss: 0.0684\n",
            "Epoch [14/20], Average Loss: 0.0665\n",
            "Epoch [15/20], Average Loss: 0.0649\n",
            "Epoch [16/20], Average Loss: 0.0635\n",
            "Epoch [17/20], Average Loss: 0.0622\n",
            "Epoch [18/20], Average Loss: 0.0612\n",
            "Epoch [19/20], Average Loss: 0.0604\n",
            "Epoch [20/20], Average Loss: 0.0595\n",
            "Training complete\n"
          ]
        }
      ],
      "source": [
        "import torch\n",
        "import torch.nn as nn\n",
        "import torch.optim as optim\n",
        "from torchvision import datasets, transforms\n",
        "from torch.utils.data import DataLoader\n",
        "\n",
        "# Define the autoencoder model with better architecture\n",
        "class Autoencoder(nn.Module):\n",
        "    def __init__(self):\n",
        "        super(Autoencoder, self).__init__()\n",
        "        # Encoder: reduce dimensionality more gracefully\n",
        "        self.encoder = nn.Sequential(\n",
        "            nn.Linear(28 * 28, 256),\n",
        "            nn.ReLU(),\n",
        "            nn.Linear(256, 128),\n",
        "            nn.ReLU(),\n",
        "            nn.Linear(128, 64),\n",
        "            nn.ReLU(),\n",
        "            nn.Linear(64, 10)  # Smaller latent space\n",
        "        )\n",
        "        # Decoder: mirror the encoder structure\n",
        "        self.decoder = nn.Sequential(\n",
        "            nn.Linear(10, 64),\n",
        "            nn.ReLU(),\n",
        "            nn.Linear(64, 128),\n",
        "            nn.ReLU(),\n",
        "            nn.Linear(128, 256),\n",
        "            nn.ReLU(),\n",
        "            nn.Linear(256, 28 * 28),\n",
        "            nn.Sigmoid()  # Output normalized pixel values\n",
        "        )\n",
        "\n",
        "    def forward(self, x):\n",
        "        encoded = self.encoder(x)\n",
        "        decoded = self.decoder(encoded)\n",
        "        return decoded * 2 - 1  # Rescale output to [-1, 1]\n",
        "\n",
        "\n",
        "# Load the MNIST dataset with improved preprocessing\n",
        "transform = transforms.Compose([\n",
        "    transforms.ToTensor(),\n",
        "    transforms.Normalize((0.5,), (0.5,))  # Center pixel values to [-1, 1]\n",
        "])\n",
        "\n",
        "train_dataset = datasets.MNIST(root='./data', train=True, download=True, transform=transform)\n",
        "train_loader = DataLoader(train_dataset, batch_size=128, shuffle=True)  # Larger batch size for efficiency\n",
        "\n",
        "# Initialize the model, loss function, and optimizer\n",
        "model = Autoencoder()\n",
        "criterion = nn.MSELoss()  # MSE is fine for reconstruction tasks\n",
        "optimizer = optim.Adam(model.parameters(), lr=0.001, weight_decay=1e-5)  # Added weight decay for regularization\n",
        "\n",
        "# Enable GPU if available\n",
        "device = torch.device(\"cuda\" if torch.cuda.is_available() else \"cpu\")\n",
        "model = model.to(device)\n",
        "\n",
        "# Training loop with added improvements\n",
        "num_epochs = 20\n",
        "for epoch in range(num_epochs):\n",
        "    total_loss = 0\n",
        "    for data in train_loader:\n",
        "        img, _ = data\n",
        "        img = img.view(img.size(0), -1).to(device)  # Flatten images and move to device\n",
        "        output = model(img)\n",
        "        loss = criterion(output, img)\n",
        "\n",
        "        optimizer.zero_grad()\n",
        "        loss.backward()\n",
        "        optimizer.step()\n",
        "\n",
        "        total_loss += loss.item()\n",
        "\n",
        "    avg_loss = total_loss / len(train_loader)\n",
        "    print(f'Epoch [{epoch+1}/{num_epochs}], Average Loss: {avg_loss:.4f}')\n",
        "\n",
        "print(\"Training complete\")"
      ]
    },
    {
      "cell_type": "code",
      "execution_count": 27,
      "metadata": {
        "id": "TsGNNA-uTFRn",
        "outputId": "4362f261-b812-4bae-c83b-5c70f998dbf7",
        "colab": {
          "base_uri": "https://localhost:8080/",
          "height": 308
        }
      },
      "outputs": [
        {
          "output_type": "display_data",
          "data": {
            "text/plain": [
              "<Figure size 640x480 with 2 Axes>"
            ],
            "image/png": "[encoded data removed]"
          },
          "metadata": {}
        }
      ],
      "source": [
        "import matplotlib.pyplot as plt\n",
        "\n",
        "# Get a batch of data\n",
        "dataiter = iter(train_loader)\n",
        "images, labels = next(dataiter)\n",
        "\n",
        "# Select an image from the batch\n",
        "img = images[0].view(1, -1)\n",
        "\n",
        "# Get the reconstruction from the autoencoder\n",
        "reconstructed_img = model(img.to(device)).view(-1, 28, 28)\n",
        "\n",
        "# Convert the images to numpy arrays for plotting\n",
        "img = img.view(28, 28).detach().numpy()\n",
        "reconstructed_img = reconstructed_img.cpu().detach().view(28, 28).numpy()\n",
        "\n",
        "# Plot the original and reconstructed images\n",
        "fig, axes = plt.subplots(1, 2)\n",
        "axes[0].imshow(img, cmap='gray')\n",
        "axes[0].set_title('Original Image')\n",
        "axes[1].imshow(reconstructed_img, cmap='gray')\n",
        "axes[1].set_title('Reconstructed Image')\n",
        "plt.show()"
      ]
    },
    {
      "cell_type": "code",
      "source": [],
      "metadata": {
        "id": "zi_HrO4EWjqE"
      },
      "execution_count": null,
      "outputs": []
    }
  ],
  "metadata": {
    "kernelspec": {
      "display_name": "Python 3",
      "name": "python3"
    },
    "language_info": {
      "codemirror_mode": {
        "name": "ipython",
        "version": 3
      },
      "file_extension": ".py",
      "mimetype": "text/x-python",
      "name": "python",
      "nbconvert_exporter": "python",
      "pygments_lexer": "ipython3",
      "version": "3.12.7"
    },
    "colab": {
      "provenance": [],
      "gpuType": "T4"
    },
    "accelerator": "GPU"
  },
  "nbformat": 4,
  "nbformat_minor": 0
}